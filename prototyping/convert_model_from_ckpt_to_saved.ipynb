{
 "cells": [
  {
   "cell_type": "code",
   "execution_count": 1,
   "id": "559b064c",
   "metadata": {},
   "outputs": [
    {
     "name": "stderr",
     "output_type": "stream",
     "text": [
      "/Users/reynier/.pyenv/versions/3.9.13/envs/tfod/lib/python3.9/site-packages/tensorflow_io/python/ops/__init__.py:98: UserWarning: unable to load libtensorflow_io_plugins.so: unable to open file: libtensorflow_io_plugins.so, from paths: ['/Users/reynier/.pyenv/versions/3.9.13/envs/tfod/lib/python3.9/site-packages/tensorflow_io/python/ops/libtensorflow_io_plugins.so']\n",
      "caused by: [\"[Errno 2] The file to load file system plugin from does not exist.: '/Users/reynier/.pyenv/versions/3.9.13/envs/tfod/lib/python3.9/site-packages/tensorflow_io/python/ops/libtensorflow_io_plugins.so'\"]\n",
      "  warnings.warn(f\"unable to load libtensorflow_io_plugins.so: {e}\")\n",
      "/Users/reynier/.pyenv/versions/3.9.13/envs/tfod/lib/python3.9/site-packages/tensorflow_io/python/ops/__init__.py:104: UserWarning: file system plugins are not loaded: unable to open file: libtensorflow_io.so, from paths: ['/Users/reynier/.pyenv/versions/3.9.13/envs/tfod/lib/python3.9/site-packages/tensorflow_io/python/ops/libtensorflow_io.so']\n",
      "caused by: [\"dlopen(/Users/reynier/.pyenv/versions/3.9.13/envs/tfod/lib/python3.9/site-packages/tensorflow_io/python/ops/libtensorflow_io.so, 0x0006): tried: '/Users/reynier/.pyenv/versions/3.9.13/envs/tfod/lib/python3.9/site-packages/tensorflow_io/python/ops/libtensorflow_io.so' (no such file), '/System/Volumes/Preboot/Cryptexes/OS/Users/reynier/.pyenv/versions/3.9.13/envs/tfod/lib/python3.9/site-packages/tensorflow_io/python/ops/libtensorflow_io.so' (no such file), '/Users/reynier/.pyenv/versions/3.9.13/envs/tfod/lib/python3.9/site-packages/tensorflow_io/python/ops/libtensorflow_io.so' (no such file)\"]\n",
      "  warnings.warn(f\"file system plugins are not loaded: {e}\")\n",
      "/Users/reynier/.pyenv/versions/3.9.13/envs/tfod/lib/python3.9/site-packages/tensorflow_addons/utils/tfa_eol_msg.py:23: UserWarning: \n",
      "\n",
      "TensorFlow Addons (TFA) has ended development and introduction of new features.\n",
      "TFA has entered a minimal maintenance and release mode until a planned end of life in May 2024.\n",
      "Please modify downstream libraries to take dependencies from other repositories in our TensorFlow community (e.g. Keras, Keras-CV, and Keras-NLP). \n",
      "\n",
      "For more information see: https://github.com/tensorflow/addons/issues/2807 \n",
      "\n",
      "  warnings.warn(\n"
     ]
    }
   ],
   "source": [
    "import os\n",
    "import tensorflow as tf\n",
    "from object_detection.utils import config_util\n",
    "from object_detection.builders import model_builder"
   ]
  },
  {
   "cell_type": "code",
   "execution_count": 2,
   "id": "de20cbfa",
   "metadata": {},
   "outputs": [],
   "source": [
    "path_to_model = '../../../downloaded_models_trinity/231006_01_digits+capitals_efficientnet_799x504/'"
   ]
  },
  {
   "cell_type": "code",
   "execution_count": 3,
   "id": "3e9400e2",
   "metadata": {},
   "outputs": [],
   "source": [
    "# Replace this with your pipeline config path and checkpoint path\n",
    "pipeline_config_path = os.path.join(path_to_model,'pipeline.config')\n",
    "model_dir = path_to_model\n",
    "\n",
    "# Load pipeline config and build the detection model\n",
    "configs = config_util.get_configs_from_pipeline_file(pipeline_config_path)\n",
    "model_config = configs['model']\n",
    "detection_model = model_builder.build(model_config=model_config, is_training=False)\n",
    "\n",
    "# Restore checkpoint\n",
    "ckpt = tf.compat.v2.train.Checkpoint(model=detection_model)\n",
    "manager = tf.train.CheckpointManager(ckpt, path_to_model, max_to_keep=1)\n",
    "status = ckpt.restore(manager.latest_checkpoint).expect_partial()"
   ]
  },
  {
   "cell_type": "code",
   "execution_count": 4,
   "id": "c5031663",
   "metadata": {},
   "outputs": [
    {
     "name": "stdout",
     "output_type": "stream",
     "text": [
      "WARNING:tensorflow:From /Users/reynier/.pyenv/versions/3.9.13/envs/tfod/lib/python3.9/site-packages/tensorflow/python/autograph/impl/api.py:459: calling map_fn (from tensorflow.python.ops.map_fn) with dtype is deprecated and will be removed in a future version.\n",
      "Instructions for updating:\n",
      "Use fn_output_signature instead\n"
     ]
    },
    {
     "name": "stderr",
     "output_type": "stream",
     "text": [
      "WARNING:tensorflow:From /Users/reynier/.pyenv/versions/3.9.13/envs/tfod/lib/python3.9/site-packages/tensorflow/python/autograph/impl/api.py:459: calling map_fn (from tensorflow.python.ops.map_fn) with dtype is deprecated and will be removed in a future version.\n",
      "Instructions for updating:\n",
      "Use fn_output_signature instead\n"
     ]
    },
    {
     "name": "stdout",
     "output_type": "stream",
     "text": [
      "WARNING:tensorflow:Skipping full serialization of Keras layer <object_detection.meta_architectures.ssd_meta_arch.SSDMetaArch object at 0x2cff87b80>, because it is not built.\n"
     ]
    },
    {
     "name": "stderr",
     "output_type": "stream",
     "text": [
      "WARNING:tensorflow:Skipping full serialization of Keras layer <object_detection.meta_architectures.ssd_meta_arch.SSDMetaArch object at 0x2cff87b80>, because it is not built.\n"
     ]
    },
    {
     "name": "stdout",
     "output_type": "stream",
     "text": [
      "WARNING:tensorflow:Model's `__init__()` arguments contain non-serializable objects. Please implement a `get_config()` method in the subclassed Model for proper saving and loading. Defaulting to empty config.\n"
     ]
    },
    {
     "name": "stderr",
     "output_type": "stream",
     "text": [
      "WARNING:tensorflow:Model's `__init__()` arguments contain non-serializable objects. Please implement a `get_config()` method in the subclassed Model for proper saving and loading. Defaulting to empty config.\n"
     ]
    },
    {
     "name": "stdout",
     "output_type": "stream",
     "text": [
      "WARNING:tensorflow:Model's `__init__()` arguments contain non-serializable objects. Please implement a `get_config()` method in the subclassed Model for proper saving and loading. Defaulting to empty config.\n"
     ]
    },
    {
     "name": "stderr",
     "output_type": "stream",
     "text": [
      "WARNING:tensorflow:Model's `__init__()` arguments contain non-serializable objects. Please implement a `get_config()` method in the subclassed Model for proper saving and loading. Defaulting to empty config.\n"
     ]
    },
    {
     "name": "stdout",
     "output_type": "stream",
     "text": [
      "WARNING:tensorflow:Model's `__init__()` arguments contain non-serializable objects. Please implement a `get_config()` method in the subclassed Model for proper saving and loading. Defaulting to empty config.\n"
     ]
    },
    {
     "name": "stderr",
     "output_type": "stream",
     "text": [
      "WARNING:tensorflow:Model's `__init__()` arguments contain non-serializable objects. Please implement a `get_config()` method in the subclassed Model for proper saving and loading. Defaulting to empty config.\n"
     ]
    },
    {
     "name": "stdout",
     "output_type": "stream",
     "text": [
      "WARNING:tensorflow:Model's `__init__()` arguments contain non-serializable objects. Please implement a `get_config()` method in the subclassed Model for proper saving and loading. Defaulting to empty config.\n"
     ]
    },
    {
     "name": "stderr",
     "output_type": "stream",
     "text": [
      "WARNING:tensorflow:Model's `__init__()` arguments contain non-serializable objects. Please implement a `get_config()` method in the subclassed Model for proper saving and loading. Defaulting to empty config.\n",
      "WARNING:absl:Found untraced functions such as WeightSharedConvolutionalBoxPredictor_layer_call_fn, WeightSharedConvolutionalBoxPredictor_layer_call_and_return_conditional_losses, WeightSharedConvolutionalBoxHead_layer_call_fn, WeightSharedConvolutionalBoxHead_layer_call_and_return_conditional_losses, WeightSharedConvolutionalClassHead_layer_call_fn while saving (showing 5 of 720). These functions will not be directly callable after loading.\n"
     ]
    },
    {
     "name": "stdout",
     "output_type": "stream",
     "text": [
      "INFO:tensorflow:Assets written to: saved_model/assets\n"
     ]
    },
    {
     "name": "stderr",
     "output_type": "stream",
     "text": [
      "INFO:tensorflow:Assets written to: saved_model/assets\n"
     ]
    }
   ],
   "source": [
    "@tf.function\n",
    "def detect_fn(image):\n",
    "    image = tf.cast(image, tf.float32)/255.\n",
    "    image, shapes = detection_model.preprocess(image)\n",
    "    prediction_dict = detection_model.predict(image, shapes)\n",
    "    detections = detection_model.postprocess(prediction_dict, shapes)\n",
    "    \n",
    "    return detections\n",
    "\n",
    "# Save the detection model as SavedModel format\n",
    "saved_model_path = 'saved_model'\n",
    "tf.saved_model.save(detection_model, saved_model_path, signatures=detect_fn.get_concrete_function(tf.TensorSpec(shape=[None, None, None, 3], dtype=tf.uint8)))"
   ]
  },
  {
   "cell_type": "code",
   "execution_count": 5,
   "id": "987a4abd",
   "metadata": {},
   "outputs": [],
   "source": [
    "loaded_model = tf.saved_model.load(saved_model_path)\n",
    "infer = loaded_model.signatures[\"serving_default\"]"
   ]
  },
  {
   "cell_type": "code",
   "execution_count": 6,
   "id": "edc28564",
   "metadata": {},
   "outputs": [],
   "source": [
    "import cv2\n",
    "img = cv2.imread(\"../img.jpg\")\n",
    "img = cv2.cvtColor(img, cv2.COLOR_BGR2RGB)\n",
    "img = cv2.resize(img,(799,504))"
   ]
  },
  {
   "cell_type": "code",
   "execution_count": 7,
   "id": "f765668d",
   "metadata": {},
   "outputs": [
    {
     "name": "stderr",
     "output_type": "stream",
     "text": [
      "2023-10-10 17:07:49.215250: W tensorflow/core/common_runtime/type_inference.cc:339] Type inference failed. This indicates an invalid graph that escaped type checking. Error message: INVALID_ARGUMENT: expected a subtype of type_id: TFT_TENSOR\n",
      "args {\n",
      "  type_id: TFT_INT32\n",
      "}\n",
      " for input 2 of a homogeneous container 1001, got type_id: TFT_SHAPE_TENSOR\n",
      "args {\n",
      "  type_id: TFT_INT32\n",
      "}\n",
      "\n",
      "\twhile inferring type of node 'StatefulPartitionedCall/Preprocessor/map/while/body/_1106/Preprocessor/map/while/TensorArrayV2Write_1/TensorListSetItem'\n",
      "2023-10-10 17:07:49.236211: W tensorflow/tsl/platform/profile_utils/cpu_utils.cc:128] Failed to get CPU frequency: 0 Hz\n"
     ]
    }
   ],
   "source": [
    "detections = infer(tf.expand_dims(tf.constant(img), axis=0))"
   ]
  },
  {
   "cell_type": "code",
   "execution_count": 8,
   "id": "555ea606",
   "metadata": {},
   "outputs": [
    {
     "data": {
      "text/plain": [
       "dict_keys(['raw_detection_boxes', 'detection_multiclass_scores', 'detection_classes', 'detection_boxes', 'raw_detection_scores', 'num_detections', 'detection_anchor_indices', 'detection_scores'])"
      ]
     },
     "execution_count": 8,
     "metadata": {},
     "output_type": "execute_result"
    }
   ],
   "source": [
    "'''\n",
    "'raw_detection_boxes'\n",
    "'detection_multiclass_scores'\n",
    "'detection_classes'\n",
    "'detection_boxes'\n",
    "'raw_detection_scores'\n",
    "'num_detections'\n",
    "'detection_anchor_indices'\n",
    "'detection_scores'\n",
    "'''\n",
    "\n",
    "detections.keys()"
   ]
  },
  {
   "cell_type": "code",
   "execution_count": 9,
   "id": "82d97c39",
   "metadata": {},
   "outputs": [],
   "source": [
    "formatted_img = img\n",
    "formatted_img = tf.cast(formatted_img, tf.float32)/255.\n",
    "\n",
    "detections_ckpt = detection_model(tf.expand_dims(tf.constant(formatted_img), axis=0))"
   ]
  },
  {
   "cell_type": "code",
   "execution_count": 10,
   "id": "d360687b",
   "metadata": {},
   "outputs": [
    {
     "data": {
      "text/plain": [
       "<tf.Tensor: shape=(1, 100), dtype=float32, numpy=\n",
       "array([[0.24635486, 0.22270001, 0.22234909, 0.21281295, 0.2101372 ,\n",
       "        0.20808034, 0.19575262, 0.19410048, 0.1892952 , 0.1866749 ,\n",
       "        0.17956518, 0.17705466, 0.17646493, 0.17130014, 0.16175069,\n",
       "        0.16092595, 0.1593827 , 0.15827537, 0.15793754, 0.15778166,\n",
       "        0.1552761 , 0.15154712, 0.15037756, 0.1502724 , 0.14940484,\n",
       "        0.14929412, 0.14804104, 0.14708124, 0.14704692, 0.1462922 ,\n",
       "        0.14548752, 0.14524597, 0.14467156, 0.14464808, 0.14454292,\n",
       "        0.14404467, 0.14393423, 0.1430473 , 0.14244148, 0.14206186,\n",
       "        0.14197952, 0.14192335, 0.1416538 , 0.14154382, 0.14145419,\n",
       "        0.14125241, 0.13960525, 0.13934524, 0.13923217, 0.13923156,\n",
       "        0.13902617, 0.1389157 , 0.13760494, 0.13575944, 0.13532606,\n",
       "        0.13488081, 0.13486369, 0.13484769, 0.13483155, 0.13480808,\n",
       "        0.13454688, 0.13452736, 0.13429573, 0.13399595, 0.13315977,\n",
       "        0.13258882, 0.13241027, 0.1323258 , 0.13203074, 0.13145734,\n",
       "        0.13102339, 0.13078277, 0.13060558, 0.13033204, 0.12883532,\n",
       "        0.1287982 , 0.12876254, 0.12869322, 0.12812236, 0.12807757,\n",
       "        0.12792352, 0.1275766 , 0.12738746, 0.1268266 , 0.12673356,\n",
       "        0.12647885, 0.1263813 , 0.12511717, 0.12491409, 0.12486926,\n",
       "        0.12476367, 0.12469853, 0.12468299, 0.12431775, 0.12362235,\n",
       "        0.12332974, 0.12307008, 0.12255862, 0.12252203, 0.1224323 ]],\n",
       "      dtype=float32)>"
      ]
     },
     "execution_count": 10,
     "metadata": {},
     "output_type": "execute_result"
    }
   ],
   "source": [
    "detections_ckpt['detection_scores']"
   ]
  },
  {
   "cell_type": "code",
   "execution_count": 11,
   "id": "6321536e",
   "metadata": {},
   "outputs": [
    {
     "data": {
      "text/plain": [
       "<tf.Tensor: shape=(1, 100), dtype=float32, numpy=\n",
       "array([[0.24635597, 0.22270034, 0.22234887, 0.21281272, 0.21013775,\n",
       "        0.20808026, 0.19575277, 0.19410044, 0.18929596, 0.18667574,\n",
       "        0.17956501, 0.1770551 , 0.17646493, 0.17130043, 0.1617511 ,\n",
       "        0.16092603, 0.15938303, 0.15827456, 0.15793797, 0.15778163,\n",
       "        0.15527628, 0.15154642, 0.15037681, 0.15027246, 0.1494049 ,\n",
       "        0.14929432, 0.14804104, 0.14708112, 0.14704709, 0.14629267,\n",
       "        0.14548774, 0.14524682, 0.14467153, 0.1446482 , 0.14454292,\n",
       "        0.14404455, 0.14393497, 0.14304748, 0.14244163, 0.14206226,\n",
       "        0.1419798 , 0.14192379, 0.14165406, 0.1415437 , 0.14145456,\n",
       "        0.14125246, 0.13960539, 0.13934594, 0.13923217, 0.1392315 ,\n",
       "        0.13902576, 0.13891596, 0.13760448, 0.1357591 , 0.13532606,\n",
       "        0.13488102, 0.13486397, 0.13484772, 0.1348311 , 0.13480835,\n",
       "        0.13454713, 0.134528  , 0.13429637, 0.13399595, 0.13315992,\n",
       "        0.13258846, 0.13240992, 0.13232605, 0.13203022, 0.13145751,\n",
       "        0.13102339, 0.13078289, 0.1306054 , 0.13033265, 0.12883557,\n",
       "        0.12879887, 0.12876216, 0.12869307, 0.12812284, 0.12807788,\n",
       "        0.12792376, 0.12757684, 0.12738797, 0.1268272 , 0.12673345,\n",
       "        0.12647916, 0.12638168, 0.12511727, 0.12491441, 0.12486947,\n",
       "        0.1247639 , 0.1246986 , 0.12468267, 0.12431809, 0.12362257,\n",
       "        0.12333013, 0.12307043, 0.12255859, 0.12252188, 0.12243187]],\n",
       "      dtype=float32)>"
      ]
     },
     "execution_count": 11,
     "metadata": {},
     "output_type": "execute_result"
    }
   ],
   "source": [
    "detections['detection_scores']"
   ]
  },
  {
   "cell_type": "code",
   "execution_count": null,
   "id": "aa68932a",
   "metadata": {},
   "outputs": [],
   "source": []
  }
 ],
 "metadata": {
  "kernelspec": {
   "display_name": "Python 3 (ipykernel)",
   "language": "python",
   "name": "python3"
  },
  "language_info": {
   "codemirror_mode": {
    "name": "ipython",
    "version": 3
   },
   "file_extension": ".py",
   "mimetype": "text/x-python",
   "name": "python",
   "nbconvert_exporter": "python",
   "pygments_lexer": "ipython3",
   "version": "3.9.13"
  }
 },
 "nbformat": 4,
 "nbformat_minor": 5
}
